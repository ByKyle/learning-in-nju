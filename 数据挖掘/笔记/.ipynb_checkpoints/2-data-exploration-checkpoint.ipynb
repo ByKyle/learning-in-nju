{
 "cells": [
  {
   "cell_type": "markdown",
   "metadata": {},
   "source": [
    "\n",
    "# Data Exploration\n",
    "\n",
    "## 数据对象和属性类型\n",
    "- 数据集由多个数据对象构成\n",
    "    - 数据对象可以指代样本、实例、数据点集（data points）,etc.\n",
    "- 属性指代数据对象的特征\n",
    "    - 例如：人的瞳孔颜色，婚姻情况等\n",
    "    - 属性也可被称为维度，特征，变量  \n",
    "- 属性类型  \n",
    "    - 名词性（Nominal）属性：事物的名字或符号\n",
    "    - 二元属性： 只有两种取值状态（0/1）\n",
    "    - 序数词（Ordinal）属性： 有序属性\n",
    "        - 如： A+,A,A-,etc\n",
    "    - 数值型属性:\n",
    "        - 区间（Interval-scaled）属性：\n",
    "            - 如 摄氏度——从结冰到开水之间的温度被分成100份\n",
    "        - 比例缩放（Ratio-scaled）属性：有一个固定的零点\n",
    "            - 如 开氏温度，长度，时间  \n",
    "- 属性对照表  \n",
    "\n",
    "| 对照 |Distincness(=,≠)|Order(<,>)|Addition(+,-)|Multiplication(×,÷)|\n",
    "| :-: | :-: | :-: | :-: | :-: |\n",
    "|名词性属性|√|\n",
    "|序数词|√|√|\n",
    "|区间型属性|√|√|√|\n",
    "|比例缩放型属性|√|√|√|√|   \n",
    "\n",
    "- 离散型属性与连续型属性\n",
    "    - 离散型属性：取值有限个，或者是可数无穷数（countably infinite number）\n",
    "    - 连续型属性: 非离散型属性皆是离散型属性\n",
    "    \n",
    "## 数据的基本统计学描述  \n",
    "\n",
    "- 基本的统计学描述可以用来辨别数据的属性\n",
    "    - 度量中心趋势\n",
    "    - 数据的离散性\n",
    "\n",
    "## 数据可视化\n",
    "## 度量数据的相似性和相异性\n",
    "## Useful things to know：文档表示和文本的相似性度量"
   ]
  },
  {
   "cell_type": "code",
   "execution_count": null,
   "metadata": {},
   "outputs": [],
   "source": [
    "\n"
   ]
  }
 ],
 "metadata": {
  "kernelspec": {
   "display_name": "Python 3",
   "language": "python",
   "name": "python3"
  },
  "language_info": {
   "codemirror_mode": {
    "name": "ipython",
    "version": 3
   },
   "file_extension": ".py",
   "mimetype": "text/x-python",
   "name": "python",
   "nbconvert_exporter": "python",
   "pygments_lexer": "ipython3",
   "version": "3.5.6"
  },
  "toc": {
   "base_numbering": 1,
   "nav_menu": {},
   "number_sections": true,
   "sideBar": true,
   "skip_h1_title": false,
   "title_cell": "Table of Contents",
   "title_sidebar": "Contents",
   "toc_cell": false,
   "toc_position": {},
   "toc_section_display": true,
   "toc_window_display": false
  }
 },
 "nbformat": 4,
 "nbformat_minor": 1
}
