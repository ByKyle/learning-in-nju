{
 "cells": [
  {
   "cell_type": "markdown",
   "metadata": {},
   "source": [
    "# 数据挖掘-介绍\n",
    "\n",
    "- 前提准备：\n",
    "\t- 基本数据库\n",
    "\t- 算法\n",
    "\t\t- 动态编程\n",
    "\t\t- 基本数据结构\n",
    "\t- 基本统计学方法\n",
    "\t\t- 基本分布（高斯分布，伯努利分布等）\n",
    "\t\t- 回归\n",
    "\n",
    "- 课程大纲：\n",
    "\t- 基础\n",
    "\t\t- 数据发现和准备\n",
    "\t\t- 分类\n",
    "\t\t\t- 基本算法：决策树，KNN，线性模型\n",
    "\t\t\t- 评估：交叉验证\n",
    "\t\t- 聚类\n",
    "\t\t\t- 基本算法：k-means,增量聚类，层次聚类（Hierarchical Clustering）\n",
    "\t\t\t- 评估\n",
    "\t\t- 关联规则（Association rules），频繁项（Frequent items）\n",
    "\t\t- 离群点检测（outlier detection)\n",
    "        \n",
    "\n",
    "- Special Topics\n",
    "    - Recommendation Systems\n",
    "    - Information Retrieval & PageRank\n",
    "    - Text Mining & Topic Analysis\n",
    "    - Introduction to Representation Learning\n",
    "        - Neural network & Deep Learning\n",
    "    - Large Scale Data mining on Map-Reduce and/or Spark\n",
    "    - Large Scale Data mining algorithms\n"
   ]
  }
 ],
 "metadata": {
  "kernelspec": {
   "display_name": "Python 3",
   "language": "python",
   "name": "python3"
  },
  "language_info": {
   "codemirror_mode": {
    "name": "ipython",
    "version": 3
   },
   "file_extension": ".py",
   "mimetype": "text/x-python",
   "name": "python",
   "nbconvert_exporter": "python",
   "pygments_lexer": "ipython3",
   "version": "3.5.6"
  }
 },
 "nbformat": 4,
 "nbformat_minor": 1
}
